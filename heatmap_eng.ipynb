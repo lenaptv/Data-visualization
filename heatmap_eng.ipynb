{
 "cells": [
  {
   "cell_type": "markdown",
   "metadata": {
    "id": "Ek0_nMX1N4sO"
   },
   "source": [
    "# Heatmap"
   ]
  },
  {
   "cell_type": "markdown",
   "metadata": {
    "id": "hTUPUNbKk1Fx"
   },
   "source": [
    "Online school example\n",
    "We need analysis of count commits per studets and days/hours\n"
   ]
  },
  {
   "cell_type": "markdown",
   "metadata": {
    "id": "aYN7M5DVj6Xh"
   },
   "source": [
    "## 0. Импорты"
   ]
  },
  {
   "cell_type": "code",
   "execution_count": 3,
   "metadata": {
    "id": "OIeuGnnNNT7H"
   },
   "outputs": [],
   "source": [
    "import pandas as pd\n",
    "import numpy as np\n",
    "import matplotlib.pyplot as plt\n",
    "\n",
    "from matplotlib import (colors,\n",
    "                        cm)\n",
    "from matplotlib.colors import (ListedColormap, \n",
    "                               LinearSegmentedColormap)\n",
    "from mpl_toolkits.axes_grid1 import make_axes_locatable\n",
    "\n",
    "import warnings\n",
    "warnings.filterwarnings('ignore')"
   ]
  },
  {
   "cell_type": "markdown",
   "metadata": {
    "id": "JjCyPAUbWHJL"
   },
   "source": [
    "## 1. Подготовка датасета"
   ]
  },
  {
   "cell_type": "code",
   "execution_count": 4,
   "metadata": {},
   "outputs": [
    {
     "data": {
      "text/html": [
       "<div>\n",
       "<style scoped>\n",
       "    .dataframe tbody tr th:only-of-type {\n",
       "        vertical-align: middle;\n",
       "    }\n",
       "\n",
       "    .dataframe tbody tr th {\n",
       "        vertical-align: top;\n",
       "    }\n",
       "\n",
       "    .dataframe thead th {\n",
       "        text-align: right;\n",
       "    }\n",
       "</style>\n",
       "<table border=\"1\" class=\"dataframe\">\n",
       "  <thead>\n",
       "    <tr style=\"text-align: right;\">\n",
       "      <th></th>\n",
       "      <th>index</th>\n",
       "      <th>status</th>\n",
       "      <th>success</th>\n",
       "      <th>timestamp</th>\n",
       "      <th>numTrials</th>\n",
       "      <th>labname</th>\n",
       "      <th>uid</th>\n",
       "    </tr>\n",
       "  </thead>\n",
       "  <tbody>\n",
       "    <tr>\n",
       "      <th>0</th>\n",
       "      <td>7</td>\n",
       "      <td>ready</td>\n",
       "      <td>0</td>\n",
       "      <td>2020-04-17 05:19:02.744528</td>\n",
       "      <td>1</td>\n",
       "      <td>project1</td>\n",
       "      <td>user_4</td>\n",
       "    </tr>\n",
       "    <tr>\n",
       "      <th>1</th>\n",
       "      <td>9</td>\n",
       "      <td>ready</td>\n",
       "      <td>1</td>\n",
       "      <td>2020-04-17 05:22:45.549397</td>\n",
       "      <td>2</td>\n",
       "      <td>project1</td>\n",
       "      <td>user_4</td>\n",
       "    </tr>\n",
       "  </tbody>\n",
       "</table>\n",
       "</div>"
      ],
      "text/plain": [
       "   index status  success                   timestamp  numTrials   labname  \\\n",
       "0      7  ready        0  2020-04-17 05:19:02.744528          1  project1   \n",
       "1      9  ready        1  2020-04-17 05:22:45.549397          2  project1   \n",
       "\n",
       "      uid  \n",
       "0  user_4  \n",
       "1  user_4  "
      ]
     },
     "execution_count": 4,
     "metadata": {},
     "output_type": "execute_result"
    }
   ],
   "source": [
    "# dataset extract\n",
    "df=pd.read_csv('data/dataset.csv')\n",
    "df.head(2)"
   ]
  },
  {
   "cell_type": "code",
   "execution_count": 5,
   "metadata": {},
   "outputs": [],
   "source": [
    "df[[\"timestamp\"]] = df[[\"timestamp\"]].astype('datetime64[ns]')"
   ]
  },
  {
   "cell_type": "markdown",
   "metadata": {
    "id": "hKxc5G01swd1"
   },
   "source": [
    "### 1.1. Dataset preparation for heatmap commits per students and per days"
   ]
  },
  {
   "cell_type": "code",
   "execution_count": 6,
   "metadata": {
    "id": "9ljGjXDBKcek"
   },
   "outputs": [],
   "source": [
    "# pivot for futher sort\n",
    "df_4sort=pd.pivot_table(df, index=['uid'], columns='status', values='timestamp', aggfunc='count') "
   ]
  },
  {
   "cell_type": "code",
   "execution_count": 7,
   "metadata": {
    "id": "sxvWHL8KKun2"
   },
   "outputs": [],
   "source": [
    "df_4sort=df_4sort.reset_index() "
   ]
  },
  {
   "cell_type": "code",
   "execution_count": 8,
   "metadata": {
    "id": "F7BuGeLtK2rC"
   },
   "outputs": [],
   "source": [
    "df_4sort=df_4sort.sort_values(by='ready', ascending=False)"
   ]
  },
  {
   "cell_type": "code",
   "execution_count": 9,
   "metadata": {
    "colab": {
     "base_uri": "https://localhost:8080/",
     "height": 0
    },
    "id": "4eqLkK4MqgFb",
    "outputId": "406b1b70-e841-4881-862e-4cf68230c2e3"
   },
   "outputs": [],
   "source": [
    "df_4days=df\n",
    "df_4days[\"dayofweek\"] = df_4days[\"timestamp\"].dt.dayofweek"
   ]
  },
  {
   "cell_type": "code",
   "execution_count": 10,
   "metadata": {
    "id": "IN_2zQb2uJU8"
   },
   "outputs": [],
   "source": [
    "df_pv_dow=pd.pivot_table(df_4days, index=['dayofweek'], columns='uid', values='timestamp', aggfunc='count') "
   ]
  },
  {
   "cell_type": "code",
   "execution_count": 11,
   "metadata": {
    "colab": {
     "base_uri": "https://localhost:8080/",
     "height": 0
    },
    "id": "RDxv6p2QuUTb",
    "outputId": "50eba78b-cb6e-4af5-945a-404892186488"
   },
   "outputs": [],
   "source": [
    "df_pv_dow=df_pv_dow.reset_index() кс"
   ]
  },
  {
   "cell_type": "code",
   "execution_count": 12,
   "metadata": {
    "id": "nKZUBCDYuxPs"
   },
   "outputs": [],
   "source": [
    "df_pv_dowT=df_pv_dow.set_index('dayofweek').T "
   ]
  },
  {
   "cell_type": "code",
   "execution_count": 13,
   "metadata": {
    "colab": {
     "base_uri": "https://localhost:8080/",
     "height": 0
    },
    "id": "JE5s4w0uu_PR",
    "outputId": "dab9718e-da4d-4d92-d8ec-ca204efe131e"
   },
   "outputs": [],
   "source": [
    "df_pv_dowT=df_pv_dowT.reset_index() "
   ]
  },
  {
   "cell_type": "code",
   "execution_count": 14,
   "metadata": {
    "id": "Rw0Jp70Wvc4J"
   },
   "outputs": [],
   "source": [
    "df_4dow=df_4sort.merge(df_pv_dowT, left_on='uid', right_on='uid', how='left')"
   ]
  },
  {
   "cell_type": "code",
   "execution_count": 15,
   "metadata": {
    "id": "cWBU7D7tvs-N"
   },
   "outputs": [],
   "source": [
    "df_4dow=df_4dow.drop(['ready'], axis=1) "
   ]
  },
  {
   "cell_type": "code",
   "execution_count": 16,
   "metadata": {
    "id": "ObX0vJyPv9eD"
   },
   "outputs": [],
   "source": [
    "df_4dow=df_4dow.set_index('uid').T "
   ]
  },
  {
   "cell_type": "code",
   "execution_count": 17,
   "metadata": {
    "id": "P4TVAOcUwJK3"
   },
   "outputs": [],
   "source": [
    "df_4dows=df_4dow.fillna(0) "
   ]
  },
  {
   "cell_type": "code",
   "execution_count": 18,
   "metadata": {
    "colab": {
     "base_uri": "https://localhost:8080/",
     "height": 0
    },
    "id": "tkISuXxdwPww",
    "outputId": "7e821cdc-950e-41cf-b160-dbeb25dc368b"
   },
   "outputs": [
    {
     "data": {
      "text/html": [
       "<div>\n",
       "<style scoped>\n",
       "    .dataframe tbody tr th:only-of-type {\n",
       "        vertical-align: middle;\n",
       "    }\n",
       "\n",
       "    .dataframe tbody tr th {\n",
       "        vertical-align: top;\n",
       "    }\n",
       "\n",
       "    .dataframe thead th {\n",
       "        text-align: right;\n",
       "    }\n",
       "</style>\n",
       "<table border=\"1\" class=\"dataframe\">\n",
       "  <thead>\n",
       "    <tr style=\"text-align: right;\">\n",
       "      <th>uid</th>\n",
       "      <th>user_4</th>\n",
       "      <th>user_14</th>\n",
       "      <th>user_2</th>\n",
       "      <th>user_25</th>\n",
       "      <th>user_19</th>\n",
       "      <th>user_26</th>\n",
       "      <th>user_20</th>\n",
       "      <th>user_31</th>\n",
       "      <th>user_10</th>\n",
       "      <th>user_3</th>\n",
       "      <th>...</th>\n",
       "      <th>user_17</th>\n",
       "      <th>user_16</th>\n",
       "      <th>user_27</th>\n",
       "      <th>user_15</th>\n",
       "      <th>user_6</th>\n",
       "      <th>user_22</th>\n",
       "      <th>user_11</th>\n",
       "      <th>user_7</th>\n",
       "      <th>user_23</th>\n",
       "      <th>user_0</th>\n",
       "    </tr>\n",
       "  </thead>\n",
       "  <tbody>\n",
       "    <tr>\n",
       "      <th>0</th>\n",
       "      <td>18.0</td>\n",
       "      <td>25.0</td>\n",
       "      <td>12.0</td>\n",
       "      <td>8.0</td>\n",
       "      <td>4.0</td>\n",
       "      <td>0.0</td>\n",
       "      <td>12.0</td>\n",
       "      <td>3.0</td>\n",
       "      <td>0.0</td>\n",
       "      <td>23.0</td>\n",
       "      <td>...</td>\n",
       "      <td>4.0</td>\n",
       "      <td>6.0</td>\n",
       "      <td>0.0</td>\n",
       "      <td>0.0</td>\n",
       "      <td>1.0</td>\n",
       "      <td>2.0</td>\n",
       "      <td>0.0</td>\n",
       "      <td>0.0</td>\n",
       "      <td>0.0</td>\n",
       "      <td>2.0</td>\n",
       "    </tr>\n",
       "    <tr>\n",
       "      <th>1</th>\n",
       "      <td>43.0</td>\n",
       "      <td>44.0</td>\n",
       "      <td>67.0</td>\n",
       "      <td>22.0</td>\n",
       "      <td>5.0</td>\n",
       "      <td>1.0</td>\n",
       "      <td>0.0</td>\n",
       "      <td>0.0</td>\n",
       "      <td>9.0</td>\n",
       "      <td>6.0</td>\n",
       "      <td>...</td>\n",
       "      <td>2.0</td>\n",
       "      <td>3.0</td>\n",
       "      <td>0.0</td>\n",
       "      <td>0.0</td>\n",
       "      <td>0.0</td>\n",
       "      <td>3.0</td>\n",
       "      <td>0.0</td>\n",
       "      <td>3.0</td>\n",
       "      <td>0.0</td>\n",
       "      <td>0.0</td>\n",
       "    </tr>\n",
       "    <tr>\n",
       "      <th>2</th>\n",
       "      <td>17.0</td>\n",
       "      <td>0.0</td>\n",
       "      <td>16.0</td>\n",
       "      <td>8.0</td>\n",
       "      <td>0.0</td>\n",
       "      <td>17.0</td>\n",
       "      <td>4.0</td>\n",
       "      <td>0.0</td>\n",
       "      <td>19.0</td>\n",
       "      <td>0.0</td>\n",
       "      <td>...</td>\n",
       "      <td>0.0</td>\n",
       "      <td>0.0</td>\n",
       "      <td>0.0</td>\n",
       "      <td>0.0</td>\n",
       "      <td>3.0</td>\n",
       "      <td>0.0</td>\n",
       "      <td>0.0</td>\n",
       "      <td>2.0</td>\n",
       "      <td>0.0</td>\n",
       "      <td>0.0</td>\n",
       "    </tr>\n",
       "    <tr>\n",
       "      <th>3</th>\n",
       "      <td>54.0</td>\n",
       "      <td>9.0</td>\n",
       "      <td>2.0</td>\n",
       "      <td>20.0</td>\n",
       "      <td>40.0</td>\n",
       "      <td>26.0</td>\n",
       "      <td>48.0</td>\n",
       "      <td>5.0</td>\n",
       "      <td>38.0</td>\n",
       "      <td>5.0</td>\n",
       "      <td>...</td>\n",
       "      <td>10.0</td>\n",
       "      <td>7.0</td>\n",
       "      <td>8.0</td>\n",
       "      <td>3.0</td>\n",
       "      <td>1.0</td>\n",
       "      <td>1.0</td>\n",
       "      <td>0.0</td>\n",
       "      <td>0.0</td>\n",
       "      <td>4.0</td>\n",
       "      <td>0.0</td>\n",
       "    </tr>\n",
       "    <tr>\n",
       "      <th>4</th>\n",
       "      <td>32.0</td>\n",
       "      <td>0.0</td>\n",
       "      <td>0.0</td>\n",
       "      <td>6.0</td>\n",
       "      <td>5.0</td>\n",
       "      <td>1.0</td>\n",
       "      <td>4.0</td>\n",
       "      <td>18.0</td>\n",
       "      <td>1.0</td>\n",
       "      <td>30.0</td>\n",
       "      <td>...</td>\n",
       "      <td>0.0</td>\n",
       "      <td>0.0</td>\n",
       "      <td>0.0</td>\n",
       "      <td>0.0</td>\n",
       "      <td>0.0</td>\n",
       "      <td>0.0</td>\n",
       "      <td>0.0</td>\n",
       "      <td>0.0</td>\n",
       "      <td>0.0</td>\n",
       "      <td>0.0</td>\n",
       "    </tr>\n",
       "    <tr>\n",
       "      <th>5</th>\n",
       "      <td>0.0</td>\n",
       "      <td>41.0</td>\n",
       "      <td>17.0</td>\n",
       "      <td>33.0</td>\n",
       "      <td>11.0</td>\n",
       "      <td>10.0</td>\n",
       "      <td>2.0</td>\n",
       "      <td>45.0</td>\n",
       "      <td>3.0</td>\n",
       "      <td>2.0</td>\n",
       "      <td>...</td>\n",
       "      <td>18.0</td>\n",
       "      <td>0.0</td>\n",
       "      <td>0.0</td>\n",
       "      <td>3.0</td>\n",
       "      <td>2.0</td>\n",
       "      <td>0.0</td>\n",
       "      <td>0.0</td>\n",
       "      <td>0.0</td>\n",
       "      <td>0.0</td>\n",
       "      <td>0.0</td>\n",
       "    </tr>\n",
       "    <tr>\n",
       "      <th>6</th>\n",
       "      <td>24.0</td>\n",
       "      <td>13.0</td>\n",
       "      <td>7.0</td>\n",
       "      <td>23.0</td>\n",
       "      <td>26.0</td>\n",
       "      <td>35.0</td>\n",
       "      <td>16.0</td>\n",
       "      <td>4.0</td>\n",
       "      <td>1.0</td>\n",
       "      <td>5.0</td>\n",
       "      <td>...</td>\n",
       "      <td>0.0</td>\n",
       "      <td>16.0</td>\n",
       "      <td>15.0</td>\n",
       "      <td>11.0</td>\n",
       "      <td>5.0</td>\n",
       "      <td>1.0</td>\n",
       "      <td>5.0</td>\n",
       "      <td>0.0</td>\n",
       "      <td>0.0</td>\n",
       "      <td>0.0</td>\n",
       "    </tr>\n",
       "  </tbody>\n",
       "</table>\n",
       "<p>7 rows × 30 columns</p>\n",
       "</div>"
      ],
      "text/plain": [
       "uid  user_4  user_14  user_2  user_25  user_19  user_26  user_20  user_31  \\\n",
       "0      18.0     25.0    12.0      8.0      4.0      0.0     12.0      3.0   \n",
       "1      43.0     44.0    67.0     22.0      5.0      1.0      0.0      0.0   \n",
       "2      17.0      0.0    16.0      8.0      0.0     17.0      4.0      0.0   \n",
       "3      54.0      9.0     2.0     20.0     40.0     26.0     48.0      5.0   \n",
       "4      32.0      0.0     0.0      6.0      5.0      1.0      4.0     18.0   \n",
       "5       0.0     41.0    17.0     33.0     11.0     10.0      2.0     45.0   \n",
       "6      24.0     13.0     7.0     23.0     26.0     35.0     16.0      4.0   \n",
       "\n",
       "uid  user_10  user_3  ...  user_17  user_16  user_27  user_15  user_6  \\\n",
       "0        0.0    23.0  ...      4.0      6.0      0.0      0.0     1.0   \n",
       "1        9.0     6.0  ...      2.0      3.0      0.0      0.0     0.0   \n",
       "2       19.0     0.0  ...      0.0      0.0      0.0      0.0     3.0   \n",
       "3       38.0     5.0  ...     10.0      7.0      8.0      3.0     1.0   \n",
       "4        1.0    30.0  ...      0.0      0.0      0.0      0.0     0.0   \n",
       "5        3.0     2.0  ...     18.0      0.0      0.0      3.0     2.0   \n",
       "6        1.0     5.0  ...      0.0     16.0     15.0     11.0     5.0   \n",
       "\n",
       "uid  user_22  user_11  user_7  user_23  user_0  \n",
       "0        2.0      0.0     0.0      0.0     2.0  \n",
       "1        3.0      0.0     3.0      0.0     0.0  \n",
       "2        0.0      0.0     2.0      0.0     0.0  \n",
       "3        1.0      0.0     0.0      4.0     0.0  \n",
       "4        0.0      0.0     0.0      0.0     0.0  \n",
       "5        0.0      0.0     0.0      0.0     0.0  \n",
       "6        1.0      5.0     0.0      0.0     0.0  \n",
       "\n",
       "[7 rows x 30 columns]"
      ]
     },
     "execution_count": 18,
     "metadata": {},
     "output_type": "execute_result"
    }
   ],
   "source": [
    "df_4dows"
   ]
  },
  {
   "cell_type": "markdown",
   "metadata": {
    "id": "-EmSOpvvshbc"
   },
   "source": [
    "### 1.2.  Dataset preparation for heatmap commits per students and per hours"
   ]
  },
  {
   "cell_type": "code",
   "execution_count": 19,
   "metadata": {
    "colab": {
     "base_uri": "https://localhost:8080/",
     "height": 0
    },
    "id": "v8tXXVJYDI43",
    "outputId": "df71af8c-e84e-4341-fc73-00087dc75962"
   },
   "outputs": [],
   "source": [
    "df[\"hour\"] = df[\"timestamp\"].dt.hour "
   ]
  },
  {
   "cell_type": "code",
   "execution_count": 20,
   "metadata": {
    "id": "HYdy7ejqDU5T"
   },
   "outputs": [],
   "source": [
    "\n",
    "df1=pd.pivot_table(df, index=['hour'], columns='uid', values='timestamp', aggfunc='count') "
   ]
  },
  {
   "cell_type": "code",
   "execution_count": 21,
   "metadata": {
    "id": "nfklPRtyEMh6"
   },
   "outputs": [],
   "source": [
    "df1=df1.reset_index() "
   ]
  },
  {
   "cell_type": "code",
   "execution_count": 22,
   "metadata": {
    "id": "u0SsDi6uI67O"
   },
   "outputs": [],
   "source": [
    "\n",
    "df2=df1.set_index('hour').T "
   ]
  },
  {
   "cell_type": "code",
   "execution_count": 23,
   "metadata": {
    "colab": {
     "base_uri": "https://localhost:8080/",
     "height": 0
    },
    "id": "Evr9MnIWI-xQ",
    "outputId": "20675e74-a0f7-4339-d66c-431dadb65c6f"
   },
   "outputs": [],
   "source": [
    "df2=df2.reset_index() "
   ]
  },
  {
   "cell_type": "code",
   "execution_count": 24,
   "metadata": {
    "id": "LsW2QFr-LuQ8"
   },
   "outputs": [],
   "source": [
    "\n",
    "df_4hours=df_4sort.merge(df2, left_on='uid', right_on='uid', how='left') "
   ]
  },
  {
   "cell_type": "code",
   "execution_count": 25,
   "metadata": {
    "id": "bCyksS7wMBi3"
   },
   "outputs": [],
   "source": [
    "\n",
    "df_4hours=df_4hours.drop(['ready'], axis=1) "
   ]
  },
  {
   "cell_type": "code",
   "execution_count": 26,
   "metadata": {
    "id": "UFGrFczxMhoQ"
   },
   "outputs": [],
   "source": [
    "df_final_hours=df_4hours.set_index('uid').T "
   ]
  },
  {
   "cell_type": "code",
   "execution_count": 27,
   "metadata": {
    "id": "vBZKWhCxM-uC"
   },
   "outputs": [],
   "source": [
    "df_final_hours=df_final_hours.fillna(0) "
   ]
  },
  {
   "cell_type": "code",
   "execution_count": 28,
   "metadata": {
    "id": "LfNnrE8jlsUt"
   },
   "outputs": [],
   "source": [
    "df_final_hours=df_final_hours.reset_index() "
   ]
  },
  {
   "cell_type": "code",
   "execution_count": 29,
   "metadata": {},
   "outputs": [
    {
     "data": {
      "text/plain": [
       "(22, 31)"
      ]
     },
     "execution_count": 29,
     "metadata": {},
     "output_type": "execute_result"
    }
   ],
   "source": [
    "df_final_hours.shape "
   ]
  },
  {
   "cell_type": "code",
   "execution_count": 30,
   "metadata": {},
   "outputs": [
    {
     "data": {
      "text/html": [
       "<div>\n",
       "<style scoped>\n",
       "    .dataframe tbody tr th:only-of-type {\n",
       "        vertical-align: middle;\n",
       "    }\n",
       "\n",
       "    .dataframe tbody tr th {\n",
       "        vertical-align: top;\n",
       "    }\n",
       "\n",
       "    .dataframe thead th {\n",
       "        text-align: right;\n",
       "    }\n",
       "</style>\n",
       "<table border=\"1\" class=\"dataframe\">\n",
       "  <thead>\n",
       "    <tr style=\"text-align: right;\">\n",
       "      <th></th>\n",
       "      <th>0</th>\n",
       "      <th>1</th>\n",
       "      <th>2</th>\n",
       "      <th>3</th>\n",
       "      <th>4</th>\n",
       "      <th>5</th>\n",
       "      <th>6</th>\n",
       "      <th>7</th>\n",
       "      <th>8</th>\n",
       "      <th>9</th>\n",
       "      <th>...</th>\n",
       "      <th>12</th>\n",
       "      <th>13</th>\n",
       "      <th>14</th>\n",
       "      <th>15</th>\n",
       "      <th>16</th>\n",
       "      <th>17</th>\n",
       "      <th>18</th>\n",
       "      <th>19</th>\n",
       "      <th>20</th>\n",
       "      <th>21</th>\n",
       "    </tr>\n",
       "    <tr>\n",
       "      <th>uid</th>\n",
       "      <th></th>\n",
       "      <th></th>\n",
       "      <th></th>\n",
       "      <th></th>\n",
       "      <th></th>\n",
       "      <th></th>\n",
       "      <th></th>\n",
       "      <th></th>\n",
       "      <th></th>\n",
       "      <th></th>\n",
       "      <th></th>\n",
       "      <th></th>\n",
       "      <th></th>\n",
       "      <th></th>\n",
       "      <th></th>\n",
       "      <th></th>\n",
       "      <th></th>\n",
       "      <th></th>\n",
       "      <th></th>\n",
       "      <th></th>\n",
       "      <th></th>\n",
       "    </tr>\n",
       "  </thead>\n",
       "  <tbody>\n",
       "    <tr>\n",
       "      <th>index</th>\n",
       "      <td>0.0</td>\n",
       "      <td>1.0</td>\n",
       "      <td>3.0</td>\n",
       "      <td>5.0</td>\n",
       "      <td>6.0</td>\n",
       "      <td>7.0</td>\n",
       "      <td>8.0</td>\n",
       "      <td>9.0</td>\n",
       "      <td>10.0</td>\n",
       "      <td>11.0</td>\n",
       "      <td>...</td>\n",
       "      <td>14.0</td>\n",
       "      <td>15.0</td>\n",
       "      <td>16.0</td>\n",
       "      <td>17.0</td>\n",
       "      <td>18.0</td>\n",
       "      <td>19.0</td>\n",
       "      <td>20.0</td>\n",
       "      <td>21.0</td>\n",
       "      <td>22.0</td>\n",
       "      <td>23.0</td>\n",
       "    </tr>\n",
       "  </tbody>\n",
       "</table>\n",
       "<p>1 rows × 22 columns</p>\n",
       "</div>"
      ],
      "text/plain": [
       "        0    1    2    3    4    5    6    7     8     9   ...    12    13  \\\n",
       "uid                                                        ...               \n",
       "index  0.0  1.0  3.0  5.0  6.0  7.0  8.0  9.0  10.0  11.0  ...  14.0  15.0   \n",
       "\n",
       "         14    15    16    17    18    19    20    21  \n",
       "uid                                                    \n",
       "index  16.0  17.0  18.0  19.0  20.0  21.0  22.0  23.0  \n",
       "\n",
       "[1 rows x 22 columns]"
      ]
     },
     "execution_count": 30,
     "metadata": {},
     "output_type": "execute_result"
    }
   ],
   "source": [
    "df_final_hours.T.head(1) \n",
    "# in 2nd and 4th actually no commits"
   ]
  },
  {
   "cell_type": "code",
   "execution_count": 31,
   "metadata": {
    "id": "GaHXPyAbks5Y"
   },
   "outputs": [],
   "source": [
    "\n",
    "df_final_hours.loc[len(df_final_hours.index)] = [2,0,0,0,0,0,0,0,0,0,0,0,0,0,0,0,0,0,0,0,0,0,0,0,0,0,0,0,0,0,0] "
   ]
  },
  {
   "cell_type": "code",
   "execution_count": 32,
   "metadata": {
    "id": "JtsRC8g9l4B0"
   },
   "outputs": [],
   "source": [
    "\n",
    "df_final_hours.loc[len(df_final_hours.index)] = [4,0,0,0,0,0,0,0,0,0,0,0,0,0,0,0,0,0,0,0,0,0,0,0,0,0,0,0,0,0,0] "
   ]
  },
  {
   "cell_type": "code",
   "execution_count": 33,
   "metadata": {
    "id": "bW5u9BGOm-5o"
   },
   "outputs": [],
   "source": [
    "\n",
    "df_final_hours=df_final_hours.set_index('index') "
   ]
  },
  {
   "cell_type": "code",
   "execution_count": 34,
   "metadata": {
    "colab": {
     "base_uri": "https://localhost:8080/",
     "height": 0
    },
    "id": "e8rGwWPpNCBS",
    "outputId": "c294105c-6412-43d2-8722-0f79255f5cf2"
   },
   "outputs": [
    {
     "data": {
      "text/html": [
       "<div>\n",
       "<style scoped>\n",
       "    .dataframe tbody tr th:only-of-type {\n",
       "        vertical-align: middle;\n",
       "    }\n",
       "\n",
       "    .dataframe tbody tr th {\n",
       "        vertical-align: top;\n",
       "    }\n",
       "\n",
       "    .dataframe thead th {\n",
       "        text-align: right;\n",
       "    }\n",
       "</style>\n",
       "<table border=\"1\" class=\"dataframe\">\n",
       "  <thead>\n",
       "    <tr style=\"text-align: right;\">\n",
       "      <th>uid</th>\n",
       "      <th>user_4</th>\n",
       "      <th>user_14</th>\n",
       "      <th>user_2</th>\n",
       "      <th>user_25</th>\n",
       "      <th>user_19</th>\n",
       "      <th>user_26</th>\n",
       "      <th>user_20</th>\n",
       "      <th>user_31</th>\n",
       "      <th>user_10</th>\n",
       "      <th>user_3</th>\n",
       "      <th>...</th>\n",
       "      <th>user_17</th>\n",
       "      <th>user_16</th>\n",
       "      <th>user_27</th>\n",
       "      <th>user_15</th>\n",
       "      <th>user_6</th>\n",
       "      <th>user_22</th>\n",
       "      <th>user_11</th>\n",
       "      <th>user_7</th>\n",
       "      <th>user_23</th>\n",
       "      <th>user_0</th>\n",
       "    </tr>\n",
       "    <tr>\n",
       "      <th>index</th>\n",
       "      <th></th>\n",
       "      <th></th>\n",
       "      <th></th>\n",
       "      <th></th>\n",
       "      <th></th>\n",
       "      <th></th>\n",
       "      <th></th>\n",
       "      <th></th>\n",
       "      <th></th>\n",
       "      <th></th>\n",
       "      <th></th>\n",
       "      <th></th>\n",
       "      <th></th>\n",
       "      <th></th>\n",
       "      <th></th>\n",
       "      <th></th>\n",
       "      <th></th>\n",
       "      <th></th>\n",
       "      <th></th>\n",
       "      <th></th>\n",
       "      <th></th>\n",
       "    </tr>\n",
       "  </thead>\n",
       "  <tbody>\n",
       "    <tr>\n",
       "      <th>0</th>\n",
       "      <td>0.0</td>\n",
       "      <td>2.0</td>\n",
       "      <td>0.0</td>\n",
       "      <td>0.0</td>\n",
       "      <td>0.0</td>\n",
       "      <td>2.0</td>\n",
       "      <td>0.0</td>\n",
       "      <td>2.0</td>\n",
       "      <td>0.0</td>\n",
       "      <td>0.0</td>\n",
       "      <td>...</td>\n",
       "      <td>0.0</td>\n",
       "      <td>0.0</td>\n",
       "      <td>0.0</td>\n",
       "      <td>0.0</td>\n",
       "      <td>1.0</td>\n",
       "      <td>0.0</td>\n",
       "      <td>0.0</td>\n",
       "      <td>0.0</td>\n",
       "      <td>0.0</td>\n",
       "      <td>0.0</td>\n",
       "    </tr>\n",
       "    <tr>\n",
       "      <th>1</th>\n",
       "      <td>0.0</td>\n",
       "      <td>3.0</td>\n",
       "      <td>0.0</td>\n",
       "      <td>0.0</td>\n",
       "      <td>0.0</td>\n",
       "      <td>0.0</td>\n",
       "      <td>0.0</td>\n",
       "      <td>0.0</td>\n",
       "      <td>0.0</td>\n",
       "      <td>0.0</td>\n",
       "      <td>...</td>\n",
       "      <td>0.0</td>\n",
       "      <td>0.0</td>\n",
       "      <td>0.0</td>\n",
       "      <td>0.0</td>\n",
       "      <td>0.0</td>\n",
       "      <td>0.0</td>\n",
       "      <td>0.0</td>\n",
       "      <td>0.0</td>\n",
       "      <td>0.0</td>\n",
       "      <td>0.0</td>\n",
       "    </tr>\n",
       "    <tr>\n",
       "      <th>2</th>\n",
       "      <td>0.0</td>\n",
       "      <td>0.0</td>\n",
       "      <td>0.0</td>\n",
       "      <td>0.0</td>\n",
       "      <td>0.0</td>\n",
       "      <td>0.0</td>\n",
       "      <td>0.0</td>\n",
       "      <td>0.0</td>\n",
       "      <td>0.0</td>\n",
       "      <td>0.0</td>\n",
       "      <td>...</td>\n",
       "      <td>0.0</td>\n",
       "      <td>0.0</td>\n",
       "      <td>0.0</td>\n",
       "      <td>0.0</td>\n",
       "      <td>0.0</td>\n",
       "      <td>0.0</td>\n",
       "      <td>0.0</td>\n",
       "      <td>0.0</td>\n",
       "      <td>0.0</td>\n",
       "      <td>0.0</td>\n",
       "    </tr>\n",
       "  </tbody>\n",
       "</table>\n",
       "<p>3 rows × 30 columns</p>\n",
       "</div>"
      ],
      "text/plain": [
       "uid    user_4  user_14  user_2  user_25  user_19  user_26  user_20  user_31  \\\n",
       "index                                                                         \n",
       "0         0.0      2.0     0.0      0.0      0.0      2.0      0.0      2.0   \n",
       "1         0.0      3.0     0.0      0.0      0.0      0.0      0.0      0.0   \n",
       "2         0.0      0.0     0.0      0.0      0.0      0.0      0.0      0.0   \n",
       "\n",
       "uid    user_10  user_3  ...  user_17  user_16  user_27  user_15  user_6  \\\n",
       "index                   ...                                               \n",
       "0          0.0     0.0  ...      0.0      0.0      0.0      0.0     1.0   \n",
       "1          0.0     0.0  ...      0.0      0.0      0.0      0.0     0.0   \n",
       "2          0.0     0.0  ...      0.0      0.0      0.0      0.0     0.0   \n",
       "\n",
       "uid    user_22  user_11  user_7  user_23  user_0  \n",
       "index                                             \n",
       "0          0.0      0.0     0.0      0.0     0.0  \n",
       "1          0.0      0.0     0.0      0.0     0.0  \n",
       "2          0.0      0.0     0.0      0.0     0.0  \n",
       "\n",
       "[3 rows x 30 columns]"
      ]
     },
     "execution_count": 34,
     "metadata": {},
     "output_type": "execute_result"
    }
   ],
   "source": [
    "df_final_hours=df_final_hours.sort_index()\n",
    "df_final_hours.head(3)"
   ]
  },
  {
   "cell_type": "code",
   "execution_count": 35,
   "metadata": {},
   "outputs": [
    {
     "data": {
      "text/plain": [
       "(24, 30)"
      ]
     },
     "execution_count": 35,
     "metadata": {},
     "output_type": "execute_result"
    }
   ],
   "source": [
    "df_final_hours.shape # check for completeness"
   ]
  },
  {
   "cell_type": "markdown",
   "metadata": {
    "id": "recOwWYXO4ax"
   },
   "source": [
    "## 2. Heatmaps"
   ]
  },
  {
   "cell_type": "markdown",
   "metadata": {},
   "source": [
    "### 2.1. Heatmap commits per students and per days"
   ]
  },
  {
   "cell_type": "code",
   "execution_count": 36,
   "metadata": {
    "colab": {
     "base_uri": "https://localhost:8080/",
     "height": 321
    },
    "id": "kZb4cijO1NyG",
    "outputId": "5f56cb84-1a82-4967-fd21-0fc4d048644b"
   },
   "outputs": [
    {
     "data": {
      "image/png": "[encoded data removed]",
      "text/plain": [
       "<Figure size 1080x576 with 2 Axes>"
      ]
     },
     "metadata": {
      "needs_background": "light"
     },
     "output_type": "display_data"
    }
   ],
   "source": [
    "# color map\n",
    "top = cm.get_cmap('Oranges_r', 256)\n",
    "bottom = cm.get_cmap('Blues', 128)\n",
    "newcolors = np.vstack((top(np.linspace(0, 1, 128)),\n",
    "                       bottom(np.linspace(0, 1, 256))))\n",
    "newcmp = ListedColormap(newcolors, name='OrangeBlue')\n",
    "\n",
    "# graph\n",
    "fig, ax = plt.subplots(figsize=(15,8))\n",
    "im = ax.imshow(df_4dows, cmap=plt.get_cmap(newcmp))\n",
    "\n",
    "# title\n",
    "ax.set_title(\"Commits per users and per days of week\", size=15)\n",
    "\n",
    "# titles for axises\n",
    "daysofweek = df_4dows.index.values\t\n",
    "users = df_4dows.columns.values\n",
    "ax.set_xticks(np.arange(len(users)))\n",
    "ax.set_xticklabels(users)\n",
    "ax.set_yticklabels(['Mon', 'Tue', 'Wed', 'Thu', 'Fri', 'Sat', 'Sun'])\n",
    "ax.set_yticks(np.arange(len(daysofweek)))\n",
    "plt.setp(ax.get_xticklabels(),\n",
    "         rotation = 90,\n",
    "         ha = \"right\",\n",
    "         rotation_mode = \"anchor\")\n",
    "\n",
    "# color legend\n",
    "divider = make_axes_locatable(ax)\n",
    "cax = divider.append_axes(\"right\", size=\"4%\", pad=0.05)\n",
    "\n",
    "plt.colorbar(im, cax=cax)\n",
    " \n",
    "fig.tight_layout()"
   ]
  },
  {
   "cell_type": "markdown",
   "metadata": {},
   "source": [
    "### 2.2. Heatmap commits per students and per hours"
   ]
  },
  {
   "cell_type": "code",
   "execution_count": 37,
   "metadata": {
    "colab": {
     "base_uri": "https://localhost:8080/",
     "height": 585
    },
    "id": "lvjeRnoTbrUa",
    "outputId": "8a7c4bc8-ec81-4f0c-9b41-2217ebdf1413"
   },
   "outputs": [
    {
     "data": {
      "image/png": "[encoded data removed]",
      "text/plain": [
       "<Figure size 1080x576 with 2 Axes>"
      ]
     },
     "metadata": {
      "needs_background": "light"
     },
     "output_type": "display_data"
    }
   ],
   "source": [
    "# graph\n",
    "fig, ax = plt.subplots(figsize=(15,8))\n",
    "im = ax.imshow(df_final_hours)\n",
    "\n",
    "# title\n",
    "ax.set_title(\"Commits per users and per hours\", size=15)\n",
    "\n",
    "# titles for axises\n",
    "hours = df_final_hours.index.values\t\n",
    "users = df_final_hours.columns.values\n",
    "ax.set_xticks(np.arange(len(users)))\n",
    "ax.set_xticklabels(users)\n",
    "ax.set_yticklabels(hours)\n",
    "ax.set_yticks(np.arange(len(hours)))\n",
    "plt.setp(ax.get_xticklabels(),\n",
    "         rotation = 90,\n",
    "         ha = \"right\",\n",
    "         rotation_mode = \"anchor\")\n",
    "\n",
    "# color legend\n",
    "divider = make_axes_locatable(ax)\n",
    "cax = divider.append_axes(\"right\", size=\"6%\", pad=0.05)\n",
    "plt.colorbar(im, cax=cax)\n",
    "\n",
    "fig.tight_layout()\n"
   ]
  },
  {
   "cell_type": "markdown",
   "metadata": {
    "id": "TklhNY9vwB38"
   },
   "source": [
    "## 3. Conclusion"
   ]
  },
  {
   "cell_type": "markdown",
   "metadata": {},
   "source": [
    "We see:\n",
    "- students don't like to do many commits per fridays,\n",
    "- thursday is most productive day,\n",
    "- students don't like to do commits after midnight,\n",
    "- the nmost popular range for commits is from 10 till 22 hours.\n",
    "\n",
    "The biggest amount of commits in one day was done by user_2 (in tuesdays).\n",
    "The biggest amount of commits in one hour was done by user_4 (in 21 hour).\n"
   ]
  }
 ],
 "metadata": {
  "colab": {
   "collapsed_sections": [
    "Q2ICk1RjsJlt",
    "hKxc5G01swd1",
    "iyQSYz3TsTdG",
    "-EmSOpvvshbc"
   ],
   "name": "day 12 task 8.ipynb",
   "provenance": []
  },
  "kernelspec": {
   "display_name": "Python 3 (ipykernel)",
   "language": "python",
   "name": "python3"
  },
  "language_info": {
   "codemirror_mode": {
    "name": "ipython",
    "version": 3
   },
   "file_extension": ".py",
   "mimetype": "text/x-python",
   "name": "python",
   "nbconvert_exporter": "python",
   "pygments_lexer": "ipython3",
   "version": "3.9.12"
  }
 },
 "nbformat": 4,
 "nbformat_minor": 1
}
