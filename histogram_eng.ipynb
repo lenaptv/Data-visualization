{
 "cells": [
  {
   "cell_type": "markdown",
   "id": "b78b11c0",
   "metadata": {},
   "source": [
    "# Histogram"
   ]
  },
  {
   "cell_type": "markdown",
   "id": "f174378f",
   "metadata": {},
   "source": [
    "IT-school example.\n",
    "We need analysis for commits during day and per working day and weekends.\n"
   ]
  },
  {
   "cell_type": "code",
   "execution_count": 5,
   "id": "25032099",
   "metadata": {},
   "outputs": [],
   "source": [
    "import pandas as pd\n",
    "import matplotlib.pyplot as plt\n",
    "import numpy as np"
   ]
  },
  {
   "cell_type": "markdown",
   "id": "fc390cab",
   "metadata": {},
   "source": [
    "### Preprocessing"
   ]
  },
  {
   "cell_type": "code",
   "execution_count": 6,
   "id": "de3e7d8a",
   "metadata": {},
   "outputs": [],
   "source": [
    "df=pd.read_csv('data/work_week_days.csv')"
   ]
  },
  {
   "cell_type": "code",
   "execution_count": 7,
   "id": "bea12258",
   "metadata": {},
   "outputs": [
    {
     "data": {
      "text/html": [
       "<div>\n",
       "<style scoped>\n",
       "    .dataframe tbody tr th:only-of-type {\n",
       "        vertical-align: middle;\n",
       "    }\n",
       "\n",
       "    .dataframe tbody tr th {\n",
       "        vertical-align: top;\n",
       "    }\n",
       "\n",
       "    .dataframe thead th {\n",
       "        text-align: right;\n",
       "    }\n",
       "</style>\n",
       "<table border=\"1\" class=\"dataframe\">\n",
       "  <thead>\n",
       "    <tr style=\"text-align: right;\">\n",
       "      <th></th>\n",
       "      <th>date</th>\n",
       "      <th>hour</th>\n",
       "      <th>day_type</th>\n",
       "    </tr>\n",
       "  </thead>\n",
       "  <tbody>\n",
       "    <tr>\n",
       "      <th>0</th>\n",
       "      <td>2020-04-17</td>\n",
       "      <td>5</td>\n",
       "      <td>working_day</td>\n",
       "    </tr>\n",
       "    <tr>\n",
       "      <th>1</th>\n",
       "      <td>2020-04-17</td>\n",
       "      <td>5</td>\n",
       "      <td>working_day</td>\n",
       "    </tr>\n",
       "    <tr>\n",
       "      <th>2</th>\n",
       "      <td>2020-04-17</td>\n",
       "      <td>5</td>\n",
       "      <td>working_day</td>\n",
       "    </tr>\n",
       "  </tbody>\n",
       "</table>\n",
       "</div>"
      ],
      "text/plain": [
       "         date  hour     day_type\n",
       "0  2020-04-17     5  working_day\n",
       "1  2020-04-17     5  working_day\n",
       "2  2020-04-17     5  working_day"
      ]
     },
     "execution_count": 7,
     "metadata": {},
     "output_type": "execute_result"
    }
   ],
   "source": [
    "df.head(3)"
   ]
  },
  {
   "cell_type": "code",
   "execution_count": 8,
   "id": "7b28de0e",
   "metadata": {},
   "outputs": [
    {
     "data": {
      "text/plain": [
       "(1686, 3)"
      ]
     },
     "execution_count": 8,
     "metadata": {},
     "output_type": "execute_result"
    }
   ],
   "source": [
    "df.shape"
   ]
  },
  {
   "cell_type": "code",
   "execution_count": 9,
   "id": "632169d9",
   "metadata": {},
   "outputs": [],
   "source": [
    "df_work = df['hour'][df['day_type']=='working_day']\n",
    "df_week = df['hour'][df['day_type']=='weekend']"
   ]
  },
  {
   "cell_type": "markdown",
   "id": "fb1d7572",
   "metadata": {},
   "source": [
    "### Histogram"
   ]
  },
  {
   "cell_type": "code",
   "execution_count": 12,
   "id": "2583d581",
   "metadata": {},
   "outputs": [
    {
     "data": {
      "image/png": "[encoded data removed]",
      "text/plain": [
       "<Figure size 1080x576 with 1 Axes>"
      ]
     },
     "metadata": {
      "needs_background": "light"
     },
     "output_type": "display_data"
    }
   ],
   "source": [
    "# plot size\n",
    "fig, ax = plt.subplots(figsize =(15, 8))\n",
    "\n",
    "# params\n",
    "plt.hist(df_work, bins = len(df_work)+1, color='skyblue', label = 'working_day', width= 1)\n",
    "plt.hist(df_week, bins = len(df_week)+1, color='red', label = 'weekend', alpha = 0.7, width= 1)\n",
    "ax.set_xlim(0, 24)\n",
    "\n",
    "# legend\n",
    "ax.legend(labels=['working_day', 'weekend'], loc=0, fontsize = 12)\n",
    "plt.show()"
   ]
  },
  {
   "cell_type": "markdown",
   "id": "dcb3acbb",
   "metadata": {},
   "source": [
    "### Conclusion"
   ]
  },
  {
   "cell_type": "markdown",
   "id": "8bc9acff",
   "metadata": {},
   "source": [
    "Commits in working day in general bigger that in weekend.\n",
    "\n",
    "Generally studennts prefer make commits in range from 10 till 22 in working days, but in weekend - from 11 till 23.\n"
   ]
  }
 ],
 "metadata": {
  "kernelspec": {
   "display_name": "Python 3 (ipykernel)",
   "language": "python",
   "name": "python3"
  },
  "language_info": {
   "codemirror_mode": {
    "name": "ipython",
    "version": 3
   },
   "file_extension": ".py",
   "mimetype": "text/x-python",
   "name": "python",
   "nbconvert_exporter": "python",
   "pygments_lexer": "ipython3",
   "version": "3.9.12"
  }
 },
 "nbformat": 4,
 "nbformat_minor": 5
}
